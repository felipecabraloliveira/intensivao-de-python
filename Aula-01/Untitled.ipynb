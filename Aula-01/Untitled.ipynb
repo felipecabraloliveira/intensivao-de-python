{
 "cells": [
  {
   "cell_type": "markdown",
   "id": "dab47b95",
   "metadata": {},
   "source": []
  },
  {
   "cell_type": "code",
   "execution_count": null,
   "id": "d3ee6f25",
   "metadata": {
    "scrolled": true
   },
   "outputs": [],
   "source": [
    "from time import sleep\n",
    "import pyautogui\n",
    "import pyperclip \n",
    "from datetime import datetime\n",
    "data = datetime.today()\n",
    "dt = data.strftime('%d/%m/%Y')\n",
    "\n",
    "#pyautogui.PAUSE = 1\n",
    "# Abrindo o GEMCO\n",
    "pyautogui.hotkey('win')\n",
    "pyautogui.write('gemco any')\n",
    "pyautogui.hotkey('enter')\n",
    "\n",
    "# Logando no sistema\n",
    "pyautogui.write('FELIPE')\n",
    "pyautogui.hotkey('enter')\n",
    "pyautogui.write('275613')\n",
    "pyautogui.hotkey('enter')\n",
    "sleep(1)\n",
    "\n",
    "# Acessando tela do fechamento\n",
    "pyautogui.click(x=658, y=129)\n",
    "pyautogui.click(x=663, y=279)\n",
    "\n",
    "# Removendo as flags da aba principal (dados gerais)\n",
    "pyautogui.click(x=404, y=304)\n",
    "pyautogui.click(x=403, y=342)\n",
    "pyautogui.click(x=404, y=398)\n",
    "pyautogui.click(x=404, y=513)\n",
    "pyautogui.click(x=404, y=582)\n",
    "pyautogui.click(x=541, y=633)\n",
    "pyautogui.click(x=749, y=325)\n",
    "\n",
    "# Ajustando quais filiais que realizaram o fechamento\n",
    "pyautogui.click(x=870, y=222)\n",
    "pyautogui.write('4')\n",
    "pyautogui.hotkey('enter')\n",
    "pyautogui.write('4')\n",
    "pyautogui.hotkey('enter')\n",
    "\n",
    "# Indo para a aba financeiro e removendo flag contas a pagar\n",
    "pyautogui.click(x=877, y=277)\n",
    "pyautogui.click(x=413, y=333)\n",
    "\n",
    "# Alterando a data do gemco por segurança para o dia atual\n",
    "pyautogui.click(x=548, y=241, clicks=2)\n",
    "pyautogui.write(dt)\n",
    "pyautogui.hotkey('enter')\n",
    "\n",
    "# Confirmando o fechamento\n",
    "pyautogui.click(x=327, y=153, clicks=1)\n",
    "pyautogui.click(x=355, y=149, clicks=1)\n",
    "\n",
    "# Aguardando fechamento\n",
    "sleep(20)\n",
    "#confirmando e saindo do GEMCO\n",
    "pyautogui.click(x=764, y=441)\n",
    "pyautogui.click(x=819, y=130, clicks=1)\n",
    "sleep(2)\n",
    "pyautogui.click(x=768, y=439)\n",
    "sleep(2)\n",
    "pyautogui.click(x=768, y=439)\n",
    "pyautogui.click(x=819, y=130, clicks=2, interval=2.0)"
   ]
  },
  {
   "cell_type": "markdown",
   "id": "c2bc8b33",
   "metadata": {},
   "source": [
    "sleep(5)\n",
    "pyautogui.position()"
   ]
  },
  {
   "cell_type": "code",
   "execution_count": 51,
   "id": "36c6c0fc",
   "metadata": {},
   "outputs": [
    {
     "data": {
      "text/plain": [
       "Point(x=355, y=149)"
      ]
     },
     "execution_count": 51,
     "metadata": {},
     "output_type": "execute_result"
    }
   ],
   "source": [
    "\n"
   ]
  },
  {
   "cell_type": "code",
   "execution_count": null,
   "id": "1ca39ed4",
   "metadata": {},
   "outputs": [],
   "source": []
  }
 ],
 "metadata": {
  "kernelspec": {
   "display_name": "Python 3",
   "language": "python",
   "name": "python3"
  },
  "language_info": {
   "codemirror_mode": {
    "name": "ipython",
    "version": 3
   },
   "file_extension": ".py",
   "mimetype": "text/x-python",
   "name": "python",
   "nbconvert_exporter": "python",
   "pygments_lexer": "ipython3",
   "version": "3.8.8"
  }
 },
 "nbformat": 4,
 "nbformat_minor": 5
}
