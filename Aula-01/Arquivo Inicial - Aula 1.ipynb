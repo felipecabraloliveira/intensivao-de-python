{
 "cells": [
  {
   "cell_type": "markdown",
   "metadata": {},
   "source": [
    "# Automação de Sistemas e Processos com Python\n",
    "\n",
    "### Desafio:\n",
    "\n",
    "Todos os dias, o nosso sistema atualiza as vendas do dia anterior.\n",
    "O seu trabalho diário, como analista, é enviar um e-mail para a diretoria, assim que começar a trabalhar, com o faturamento e a quantidade de produtos vendidos no dia anterior\n",
    "\n",
    "E-mail da diretoria: seugmail+diretoria@gmail.com<br>\n",
    "Local onde o sistema disponibiliza as vendas do dia anterior: https://drive.google.com/drive/folders/149xknr9JvrlEnhNWO49zPcw0PW5icxga?usp=sharing\n",
    "\n",
    "pyautoguiPara resolver isso, vamos usar o pyautogui, uma biblioteca de automação de comandos do mouse e do teclado"
   ]
  },
  {
   "cell_type": "code",
   "execution_count": 33,
   "metadata": {},
   "outputs": [],
   "source": [
    "from time import sleep\n",
    "import pyautogui\n",
    "import pyperclip \n",
    "pyautogui.PAUSE = 1\n",
    "\n",
    "# Passo 1: Entrar no sistema (no nosso caso, entrar no link)\n",
    "pyautogui.hotkey(\"ctrl\", \"t\")\n",
    "pyperclip.copy(\"https://drive.google.com/drive/folders/149xknr9JvrlEnhNWO49zPcw0PW5icxga?usp=sharing\")\n",
    "pyautogui.hotkey('ctrl', 'v')\n",
    "pyautogui.press(\"enter\")\n",
    "\n",
    "sleep(6)\n",
    "# Passo 2: Navegar até o local do relatório ( Entrar na pasta Exportar)\n",
    "pyautogui.click(x=342, y=276, clicks=2)\n",
    "sleep(2)\n",
    "\n",
    "# Passo 3:  Fazer o download do relatório\n",
    "pyautogui.click(x=342, y=276)\n",
    "pyautogui.click(x=1165, y=159)\n",
    "pyautogui.click(x=968, y=558)\n",
    "sleep(5)\n",
    "pyautogui.click(x=1109, y=650)\n",
    "\n",
    "\n"
   ]
  },
  {
   "cell_type": "markdown",
   "metadata": {},
   "source": [
    "### Vamos agora ler o arquivo baixado para pegar os indicadores\n",
    "\n",
    "- Faturamento\n",
    "- Quantidade de Produtos"
   ]
  },
  {
   "cell_type": "code",
   "execution_count": 36,
   "metadata": {},
   "outputs": [
    {
     "data": {
      "text/plain": [
       "7089"
      ]
     },
     "metadata": {},
     "output_type": "display_data"
    }
   ],
   "source": [
    "# Passo 4: calcular os indicadores\n",
    "import pandas as pd\n",
    "\n",
    "tabela = pd.read_excel(r\"C://Users/Felipe Cabral/Downloads/Vendas - Dez.xlsx\")\n",
    "\n",
    "faturamento = tabela['Valor Final'].sum()\n",
    "qtd = tabela['Quantidade'].count()\n",
    "\n",
    "\n"
   ]
  },
  {
   "cell_type": "markdown",
   "metadata": {},
   "source": [
    "### Vamos agora enviar um e-mail pelo gmail"
   ]
  },
  {
   "cell_type": "code",
   "execution_count": 55,
   "metadata": {},
   "outputs": [],
   "source": [
    "# Passo 5: Entrar no e-mail\n",
    "pyautogui.hotkey('ctrl', 't')\n",
    "pyperclip.copy('https://mail.google.com/mail/u/0/#inbox')\n",
    "pyautogui.hotkey('ctrl','v')\n",
    "pyautogui.hotkey('enter')\n",
    "sleep(9)\n",
    "\n",
    "# Passo 6: Enviar por e-mail o resultado.\n",
    "pyautogui.click(x=52, y=176)\n",
    "sleep(9)\n",
    "pyperclip.copy('felipecabral33@gmail.com')\n",
    "pyautogui.hotkey('ctrl','v')\n",
    "pyautogui.hotkey('tab')\n",
    "pyperclip.copy('E-mail automático')\n",
    "pyautogui.hotkey('ctrl','v')\n",
    "pyautogui.hotkey('tab')\n",
    "\n",
    "texto = f'''Prezados,\n",
    "Seguem os dados de faturamento:\n",
    "\n",
    "Total de vendas: R${faturamento:,.2f}\n",
    "Quantidade: {qtd:,}\n",
    "\n",
    "att,\n",
    "Felipe Cabral'''\n",
    "pyperclip.copy(texto)\n",
    "pyautogui.hotkey('ctrl','v')\n",
    "pyautogui.click(x=827, y=701)"
   ]
  },
  {
   "cell_type": "markdown",
   "metadata": {},
   "source": [
    "#### Use esse código para descobrir qual a posição de um item que queira clicar\n",
    "\n",
    "- Lembre-se: a posição na sua tela é diferente da posição na minha tela"
   ]
  },
  {
   "cell_type": "code",
   "execution_count": 54,
   "metadata": {},
   "outputs": [
    {
     "data": {
      "text/plain": [
       "Point(x=827, y=701)"
      ]
     },
     "execution_count": 54,
     "metadata": {},
     "output_type": "execute_result"
    }
   ],
   "source": [
    "sleep(5)\n",
    "pyautogui.position()"
   ]
  },
  {
   "cell_type": "code",
   "execution_count": null,
   "metadata": {},
   "outputs": [],
   "source": []
  },
  {
   "cell_type": "code",
   "execution_count": null,
   "metadata": {},
   "outputs": [],
   "source": []
  }
 ],
 "metadata": {
  "kernelspec": {
   "display_name": "Python 3",
   "language": "python",
   "name": "python3"
  },
  "language_info": {
   "codemirror_mode": {
    "name": "ipython",
    "version": 3
   },
   "file_extension": ".py",
   "mimetype": "text/x-python",
   "name": "python",
   "nbconvert_exporter": "python",
   "pygments_lexer": "ipython3",
   "version": "3.8.8"
  }
 },
 "nbformat": 4,
 "nbformat_minor": 4
}
