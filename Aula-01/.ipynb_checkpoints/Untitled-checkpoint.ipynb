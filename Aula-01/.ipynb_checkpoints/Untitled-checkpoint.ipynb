{
 "cells": [
  {
   "cell_type": "code",
   "execution_count": null,
   "id": "51da377c",
   "metadata": {},
   "outputs": [],
   "source": [
    "from time import sleep\n",
    "import pyautogui\n",
    "import pyperclip \n",
    "from datetime import datetime\n",
    "data = datetime.today()\n",
    "dt = data.strftime('%d/%m/%Y')\n",
    "\n",
    "#pyautogui.PAUSE = 1\n",
    "# Abrindo o GEMCO\n",
    "pyautogui.hotkey('win')\n",
    "pyautogui.write('gemco any')\n",
    "pyautogui.hotkey('enter')\n",
    "\n",
    "# Logando no sistema\n",
    "pyautogui.write('FELIPE')\n",
    "pyautogui.hotkey('enter')\n",
    "pyautogui.write('275613')\n",
    "pyautogui.hotkey('enter')\n",
    "sleep(1)\n",
    "\n",
    "# Acessando tela do fechamento\n",
    "pyautogui.click(x=658, y=129)\n",
    "pyautogui.click(x=663, y=279)\n",
    "\n",
    "# Removendo as flags da aba principal (dados gerais)\n",
    "pyautogui.click(x=404, y=304)\n",
    "pyautogui.click(x=403, y=342)\n",
    "pyautogui.click(x=404, y=398)\n",
    "pyautogui.click(x=404, y=513)\n",
    "pyautogui.click(x=404, y=582)\n",
    "pyautogui.click(x=541, y=633)\n",
    "pyautogui.click(x=749, y=325)\n",
    "\n",
    "# Ajustando quais filiais que realizaram o fechamento\n",
    "pyautogui.click(x=900, y=248)\n",
    "pyautogui.write('5')\n",
    "pyautogui.hotkey('enter')\n",
    "\n",
    "# Indo para a aba financeiro e removendo flag contas a pagar\n",
    "pyautogui.click(x=877, y=277)\n",
    "pyautogui.click(x=413, y=333)\n",
    "\n",
    "# Alterando a data do gemco por segurança para o dia atual\n",
    "pyautogui.click(x=548, y=241, clicks=2)\n",
    "pyautogui.write(dt)\n",
    "pyautogui.hotkey('enter')\n",
    "\n",
    "# Confirmando o fechamento\n",
    "pyautogui.click(x=327, y=153, cl)\n",
    "# Aguardando fechamento\n",
    "sleep(20)\n",
    "#confirmando e saindo do GEMCO\n",
    "pyautogui.click(x=764, y=441)\n",
    "pyautogui.click(x=819, y=130, clicks=3)"
   ]
  },
  {
   "cell_type": "markdown",
   "id": "7a9a8f15",
   "metadata": {},
   "source": []
  },
  {
   "cell_type": "code",
   "execution_count": 44,
   "id": "472eb9c7",
   "metadata": {
    "scrolled": false
   },
   "outputs": [
    {
     "data": {
      "text/plain": [
       "Point(x=327, y=153)"
      ]
     },
     "execution_count": 44,
     "metadata": {},
     "output_type": "execute_result"
    }
   ],
   "source": [
    "sleep(5)\n",
    "pyautogui.position()"
   ]
  },
  {
   "cell_type": "code",
   "execution_count": 32,
   "id": "cae0e0f2",
   "metadata": {},
   "outputs": [
    {
     "name": "stdout",
     "output_type": "stream",
     "text": [
      "2021-10-06 13:52:37.033656\n",
      "06/10/2021\n"
     ]
    }
   ],
   "source": [
    "\n"
   ]
  },
  {
   "cell_type": "code",
   "execution_count": null,
   "id": "3395eea7",
   "metadata": {},
   "outputs": [],
   "source": []
  }
 ],
 "metadata": {
  "kernelspec": {
   "display_name": "Python 3",
   "language": "python",
   "name": "python3"
  },
  "language_info": {
   "codemirror_mode": {
    "name": "ipython",
    "version": 3
   },
   "file_extension": ".py",
   "mimetype": "text/x-python",
   "name": "python",
   "nbconvert_exporter": "python",
   "pygments_lexer": "ipython3",
   "version": "3.8.8"
  }
 },
 "nbformat": 4,
 "nbformat_minor": 5
}
